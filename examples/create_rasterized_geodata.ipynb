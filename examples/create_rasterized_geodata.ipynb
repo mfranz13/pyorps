{
 "cells": [
  {
   "cell_type": "markdown",
   "id": "90882b36-1347-4225-8bf9-2264a2d1572a",
   "metadata": {},
   "source": [
    "## Creating Rasterized Geodata for Least-Cost Path Analysis with PYORPS\n",
    "This notebook demonstrates how to prepare rasterized geodata for use in least-cost path analysis with PYORPS. The\n",
    "steps include downloading vector data from a WFS server, defining cost assumptions, and rasterizing the vector data\n",
    "into a high-resolution raster dataset. The resulting raster file can then be used for route planning tasks with PYORPS."
   ]
  },
  {
   "cell_type": "markdown",
   "id": "0d44e573-5a15-4ce7-87dd-f5139fa5e23c",
   "metadata": {},
   "source": [
    "#### 1. Import the features for cost assumptions and Rasterization from PYORPS\n",
    "The initialize_geo_dataset function creates a GeoDataset Object from a given input.\n",
    "The function 'save_empty_cost_assumptions' is used to save a blank file which can be filled with cost assumptions and\n",
    "further be used for rasterization. Objects of the GeoRasterizer class can rasterize the GeoDataset with the defined cost\n",
    "assumptions."
   ]
  },
  {
   "cell_type": "code",
   "id": "6eb4603d-2845-49a2-91d7-17cde1c6e599",
   "metadata": {
    "ExecuteTime": {
     "end_time": "2025-06-28T13:11:41.690211Z",
     "start_time": "2025-06-28T13:11:31.618142Z"
    }
   },
   "source": [
    "from pyorps import initialize_geo_dataset, save_empty_cost_assumptions, GeoRasterizer"
   ],
   "outputs": [],
   "execution_count": 1
  },
  {
   "cell_type": "markdown",
   "id": "7f5c16e0-12ff-432d-b77c-7b88d8ed0cc1",
   "metadata": {},
   "source": [
    "#### 2. Download Vector Data from a WFS Server\n",
    "\n",
    "A Web Feature Service (WFS) allows users to request and retrieve vector geospatial data (e.g., shapefiles) over the web. This is particularly useful for accessing up-to-date geospatial datasets.\n",
    "How to Make a Proper WFS Request:\n",
    "- Define the WFS server URL.\n",
    "- Specify the layer or dataset you want to download.\n",
    "- Use appropriate query parameters (e.g., bounding box, CRS, or feature type) to refine your request.\n",
    "\n",
    "In this example we use an open-source dataset from the [Hessian State Office for Land Management and Geoinformation](https://gds.hessen.de/INTERSHOP/web/WFS/HLBG-Geodaten-Site/de_DE/-/EUR/ViewDownloadcenter-Start?path=Geodatendienste/WFS%20ALKIS-Grundriss)\n",
    "\n",
    "##### 2.1 Define WFS-Request\n",
    "First, we define the WFS request by specifying the URL and the layer name."
   ]
  },
  {
   "cell_type": "code",
   "id": "b46c0885-787f-467b-99d3-de4d57a06f83",
   "metadata": {
    "ExecuteTime": {
     "end_time": "2025-06-28T13:11:41.701151Z",
     "start_time": "2025-06-28T13:11:41.695746Z"
    }
   },
   "source": [
    "base_file_url = \"https://www.gds.hessen.de/wfs2/aaa-suite/cgi-bin/alkis/vereinf/wfs\"\n",
    "\n",
    "wfs_request = {\n",
    "    \"url\": base_file_url,\n",
    "    \"layer\": \"ave_Nutzung\",\n",
    "}"
   ],
   "outputs": [],
   "execution_count": 2
  },
  {
   "cell_type": "markdown",
   "id": "d4f81555-621c-4702-9d66-749fcf3af967",
   "metadata": {},
   "source": [
    "##### 2.2 Create bounding box\n",
    "A significant amount of data is available for the defined request! To download only a portion of this data,let's define a bounding box. It is crucial that this bounding box is in the same Coordinate Reference System (CRS) as the requested layer, as this ensures accurate data retrieval and alignment (\"EPSG:25832\" in this case)."
   ]
  },
  {
   "cell_type": "code",
   "id": "290ae1ba-a44b-4ef8-b88c-87d42b522151",
   "metadata": {
    "ExecuteTime": {
     "end_time": "2025-06-28T13:11:42.056111Z",
     "start_time": "2025-06-28T13:11:42.051911Z"
    }
   },
   "source": [
    "box_tuple = (471200, 5592700, 474200, 5595700)"
   ],
   "outputs": [],
   "execution_count": 3
  },
  {
   "cell_type": "markdown",
   "id": "ac3190a0-3e59-40b3-a60a-8d7d1377acd3",
   "metadata": {},
   "source": [
    "##### 2.3 Initialize GeoDataset and download the data from the WFS\n",
    "Now, we will initialize the GeoDataset instance and load the data from its source using the defined request and\n",
    "bounding box."
   ]
  },
  {
   "cell_type": "code",
   "id": "f01f8959-d467-4b28-9663-b921e9b095d9",
   "metadata": {
    "ExecuteTime": {
     "end_time": "2025-06-28T13:11:42.779864Z",
     "start_time": "2025-06-28T13:11:42.064875Z"
    }
   },
   "source": [
    "geo_dataset = initialize_geo_dataset(wfs_request, bbox=box_tuple)\n",
    "geo_dataset.load_data()"
   ],
   "outputs": [],
   "execution_count": 4
  },
  {
   "cell_type": "markdown",
   "id": "db553e48-49df-40eb-96c5-d2e4a10e659f",
   "metadata": {},
   "source": [
    "#### 3. Save an Empty Cost Assumptions CSV File\n",
    "\n",
    "Cost assumptions assign terrain-specific costs to different features in the vector dataset (e.g., forests, water bodies, roads). These costs are critical for least-cost path analysis.\n",
    "Steps to create the CSV file:\n",
    "- Generate an empty CSV file with the required structure (e.g., columns for feature type and cost values).\n",
    "- Save the file locally and  fill it with your specific cost assumptions.\n",
    "##### 3.1 Define a file location to save the CSV file\n",
    "Define a path string to the location where to save the CSV file. If the folder data/cost_assumptions does not exist,\n",
    "create it beforehand."
   ]
  },
  {
   "cell_type": "code",
   "id": "c3c35291-c407-4f72-8719-cfc511be2d27",
   "metadata": {
    "ExecuteTime": {
     "end_time": "2025-06-28T13:11:42.791190Z",
     "start_time": "2025-06-28T13:11:42.786129Z"
    }
   },
   "source": [
    "save_path_empty_cost_assumptions = r\"./data/cost_assumptions/cost_assumptions_template_HE_ALKIS.csv\""
   ],
   "outputs": [],
   "execution_count": 5
  },
  {
   "cell_type": "markdown",
   "id": "83199fee-8e79-4d72-a64b-e36e7cec3602",
   "metadata": {},
   "source": [
    "##### 3.2 Generate and save an empty cost assumptions file with zero values for the geospatial dataset.\n",
    "This process involves analyzing the dataset to identify relevant feature columns and creating a CostAssumptions\n",
    "object that assigns zero costs to all features. The resulting CSV file will serve as a template to put in your\n",
    "specific cost values."
   ]
  },
  {
   "cell_type": "code",
   "id": "bcabafa4-f54b-493c-aae0-8791b670b8b8",
   "metadata": {
    "ExecuteTime": {
     "end_time": "2025-06-28T13:11:42.845440Z",
     "start_time": "2025-06-28T13:11:42.798358Z"
    }
   },
   "source": [
    "save_empty_cost_assumptions(geo_dataset, save_path_empty_cost_assumptions)"
   ],
   "outputs": [
    {
     "data": {
      "text/plain": [
       "{('Halde', nan): 0,\n",
       " ('Straßenverkehr', nan): 0,\n",
       " ('Weg', nan): 0,\n",
       " ('Weg', 'Fußweg'): 0,\n",
       " ('Landwirtschaft', 'Ackerland'): 0,\n",
       " ('Landwirtschaft', 'Grünland'): 0,\n",
       " ('Landwirtschaft', 'Gartenbauland'): 0,\n",
       " ('Wald', 'Laub- und Nadelholz'): 0,\n",
       " ('Wald', 'Nadelholz'): 0,\n",
       " ('Wald', 'Laubholz'): 0,\n",
       " ('Unland/Vegetationslose Fläche', nan): 0,\n",
       " ('Fließgewässer', 'Graben'): 0,\n",
       " ('Gehölz', nan): 0,\n",
       " ('Industrie- und Gewerbefläche', 'Wasserwerk'): 0,\n",
       " ('Fließgewässer', nan): 0,\n",
       " ('Platz', nan): 0,\n",
       " ('Sport-, Freizeit- und Erholungsfläche', 'Sportanlage'): 0,\n",
       " ('Sport-, Freizeit- und Erholungsfläche',\n",
       "  'Gebäude- und Freifläche Sport, Freizeit und Erholung'): 0,\n",
       " ('Fläche gemischter Nutzung', 'Landwirtschaftliche Betriebsfläche'): 0,\n",
       " ('Fläche gemischter Nutzung', 'Wohnen'): 0,\n",
       " ('Wohnbaufläche', nan): 0,\n",
       " ('Fläche gemischter Nutzung',\n",
       "  'Gebäude- und Freifläche Land- und Forstwirtschaft'): 0,\n",
       " ('Fläche gemischter Nutzung',\n",
       "  'Gebäude- und Freifläche Mischnutzung mit Wohnen'): 0,\n",
       " ('Fläche gemischter Nutzung', nan): 0,\n",
       " ('Sport-, Freizeit- und Erholungsfläche', 'Grünanlage'): 0,\n",
       " ('Industrie- und Gewerbefläche', 'Lagerfläche'): 0,\n",
       " ('Industrie- und Gewerbefläche', 'Industrie und Gewerbe'): 0,\n",
       " ('Landwirtschaft', 'Streuobstwiese'): 0,\n",
       " ('Fließgewässer', 'Bach'): 0,\n",
       " ('Fläche besonderer funktionaler Prägung', nan): 0,\n",
       " ('Industrie- und Gewerbefläche', 'Versorgungsanlage'): 0,\n",
       " ('Industrie- und Gewerbefläche', 'Handel und Dienstleistung'): 0,\n",
       " ('Industrie- und Gewerbefläche', 'Kläranlage, Klärwerk'): 0,\n",
       " ('Tagebau, Grube, Steinbruch', nan): 0,\n",
       " ('Fläche besonderer funktionaler Prägung', 'Öffentliche Zwecke'): 0,\n",
       " ('Friedhof', nan): 0,\n",
       " ('Platz', 'Parkplatz'): 0,\n",
       " ('Unland/Vegetationslose Fläche', 'Gewässerbegleitfläche'): 0,\n",
       " ('Industrie- und Gewerbefläche', 'Funk- und Fernmeldeanlage'): 0,\n",
       " ('Industrie- und Gewerbefläche', 'Abfallbehandlungsanlage'): 0,\n",
       " ('Industrie- und Gewerbefläche', 'Umspannstation'): 0,\n",
       " ('Industrie- und Gewerbefläche', nan): 0}"
      ]
     },
     "execution_count": 6,
     "metadata": {},
     "output_type": "execute_result"
    }
   ],
   "execution_count": 6
  },
  {
   "cell_type": "markdown",
   "id": "d95c387c-527f-4ac8-825f-90ae13331f40",
   "metadata": {},
   "source": [
    "##### 3.3 Use the template CSV file for your cost assumptions\n",
    "Fill the cost column of the previously generated CSV file with your cost assumptions and save it as a new file!"
   ]
  },
  {
   "cell_type": "markdown",
   "id": "f6ea5898-e741-49d0-b8c5-42039a0dda40",
   "metadata": {},
   "source": [
    "#### 4. Rasterize the Vector Dataset Using Cost Assumptions\n",
    "\n",
    "Rasterization converts vector data (e.g. polygons) into a raster format (gridded data). Each pixel in the raster is assigned a value based on the cost assumptions.\n",
    "Steps to Rasterize the Data:\n",
    "- Create a GeoRasterizer object with the vector dataset and the cost assumptions CSV file.\n",
    "- Rasterize the vector data, assign pixel values based on the cost assumptions and save the raster file.\n",
    "\n",
    "##### 4.1 Create the GeoRasterizer instance\n",
    "Create an instance of the GeoRasterizer class with the GeoDataset instance and the path to the cost file, filled\n",
    "with your cost assumptions."
   ]
  },
  {
   "cell_type": "code",
   "id": "f698ed49-2e43-4c18-87b0-bb202dfc9387",
   "metadata": {
    "ExecuteTime": {
     "end_time": "2025-06-28T13:11:42.877209Z",
     "start_time": "2025-06-28T13:11:42.853349Z"
    }
   },
   "source": [
    "cost_file_path = r\"./data/cost_assumptions/cost_assumptions.csv\"\n",
    "rasterizer = GeoRasterizer(geo_dataset, cost_file_path)"
   ],
   "outputs": [],
   "execution_count": 7
  },
  {
   "cell_type": "markdown",
   "id": "e9f24585-5542-4441-a98c-15b5942f4d4f",
   "metadata": {},
   "source": [
    "##### 4.2 Rasterize the vector data and save the raster data\n",
    "Rasterize the vector data by calling the rasterize method with the GeoRasterizer instance. Pass a path to the\n",
    "save_path parameter to directly save the raster file after it has been created."
   ]
  },
  {
   "cell_type": "code",
   "id": "5e2ce4df-46bb-40d3-99e6-aee258e821bf",
   "metadata": {
    "ExecuteTime": {
     "end_time": "2025-06-28T13:11:43.241057Z",
     "start_time": "2025-06-28T13:11:42.883746Z"
    }
   },
   "source": [
    "raster_save_path = r\"./data/raster/big_raster.tiff\"\n",
    "rasterizer.rasterize(save_path=raster_save_path)"
   ],
   "outputs": [
    {
     "data": {
      "text/plain": [
       "<pyorps.io.geo_dataset.InMemoryRasterDataset at 0x296d6955b80>"
      ]
     },
     "execution_count": 8,
     "metadata": {},
     "output_type": "execute_result"
    }
   ],
   "execution_count": 8
  },
  {
   "cell_type": "markdown",
   "id": "4bdfe164-d40b-4e21-8525-c0af5f3cfbd1",
   "metadata": {},
   "source": [
    "##### You can now use the rasterized geodata for your route planning tasks with PYORPS! Refer to the minimal_example.ipynb for guidance."
   ]
  }
 ],
 "metadata": {
  "kernelspec": {
   "display_name": "Python 3 (ipykernel)",
   "language": "python",
   "name": "python3"
  },
  "language_info": {
   "codemirror_mode": {
    "name": "ipython",
    "version": 3
   },
   "file_extension": ".py",
   "mimetype": "text/x-python",
   "name": "python",
   "nbconvert_exporter": "python",
   "pygments_lexer": "ipython3",
   "version": "3.11.9"
  }
 },
 "nbformat": 4,
 "nbformat_minor": 5
}
