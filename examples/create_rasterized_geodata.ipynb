{
 "cells": [
  {
   "cell_type": "markdown",
   "id": "90882b36-1347-4225-8bf9-2264a2d1572a",
   "metadata": {},
   "source": [
    "## Creating Rasterized Geodata for Least-Cost Path Analysis with PYORPS\n",
    "This notebook demonstrates how to prepare rasterized geodata for use in least-cost path analysis with PYORPS. The\n",
    "steps include downloading vector data from a WFS server, defining cost assumptions, and rasterizing the vector data\n",
    "into a high-resolution raster dataset. The resulting raster file can then be used for route planning tasks with PYORPS."
   ]
  },
  {
   "cell_type": "markdown",
   "id": "0d44e573-5a15-4ce7-87dd-f5139fa5e23c",
   "metadata": {},
   "source": [
    "#### 1. Import the features for cost assumptions and Rasterization from PYORPS\n",
    "The initialize_geo_dataset function creates a GeoDataset Object from a given input.\n",
    "The function 'save_empty_cost_assumptions' is used to save a blank file which can be filled with cost assumptions and\n",
    "further be used for rasterization. Objects of the GeoRasterizer class can rasterize the GeoDataset with the defined cost\n",
    "assumptions."
   ]
  },
  {
   "cell_type": "code",
   "id": "6eb4603d-2845-49a2-91d7-17cde1c6e599",
   "metadata": {
    "ExecuteTime": {
     "end_time": "2025-07-01T13:59:10.014300Z",
     "start_time": "2025-07-01T13:59:01.810507Z"
    }
   },
   "source": [
    "from pyorps import initialize_geo_dataset, save_empty_cost_assumptions, GeoRasterizer"
   ],
   "outputs": [
    {
     "ename": "TypingError",
     "evalue": "Failed in nopython mode pipeline (step: nopython frontend)\n\u001B[1m\u001B[1mNameError: name '_calculate_source_region_bounds' is not defined\u001B[0m\n\u001B[0m\u001B[1mDuring: Pass nopython_type_inference\u001B[0m",
     "output_type": "error",
     "traceback": [
      "\u001B[31m---------------------------------------------------------------------------\u001B[39m",
      "\u001B[31mTypingError\u001B[39m                               Traceback (most recent call last)",
      "\u001B[36mCell\u001B[39m\u001B[36m \u001B[39m\u001B[32mIn[1]\u001B[39m\u001B[32m, line 1\u001B[39m\n\u001B[32m----> \u001B[39m\u001B[32m1\u001B[39m \u001B[38;5;28;01mfrom\u001B[39;00m\u001B[38;5;250m \u001B[39m\u001B[34;01mpyorps\u001B[39;00m\u001B[38;5;250m \u001B[39m\u001B[38;5;28;01mimport\u001B[39;00m initialize_geo_dataset, save_empty_cost_assumptions, GeoRasterizer\n",
      "\u001B[36mFile \u001B[39m\u001B[32m~\\Documents\\3_python_projects\\pyorps\\pyorps\\__init__.py:13\u001B[39m\n\u001B[32m      6\u001B[39m \u001B[38;5;28;01mfrom\u001B[39;00m\u001B[38;5;250m \u001B[39m\u001B[34;01m.\u001B[39;00m\u001B[34;01mio\u001B[39;00m\u001B[34;01m.\u001B[39;00m\u001B[34;01mgeo_dataset\u001B[39;00m\u001B[38;5;250m \u001B[39m\u001B[38;5;28;01mimport\u001B[39;00m (\n\u001B[32m      7\u001B[39m     GeoDataset, VectorDataset, RasterDataset,\n\u001B[32m      8\u001B[39m     InMemoryVectorDataset, LocalVectorDataset,\n\u001B[32m      9\u001B[39m     WFSVectorDataset, LocalRasterDataset,\n\u001B[32m     10\u001B[39m     InMemoryRasterDataset, initialize_geo_dataset\n\u001B[32m     11\u001B[39m )\n\u001B[32m     12\u001B[39m \u001B[38;5;28;01mfrom\u001B[39;00m\u001B[38;5;250m \u001B[39m\u001B[34;01m.\u001B[39;00m\u001B[34;01mraster\u001B[39;00m\u001B[34;01m.\u001B[39;00m\u001B[34;01mrasterizer\u001B[39;00m\u001B[38;5;250m \u001B[39m\u001B[38;5;28;01mimport\u001B[39;00m GeoRasterizer\n\u001B[32m---> \u001B[39m\u001B[32m13\u001B[39m \u001B[38;5;28;01mfrom\u001B[39;00m\u001B[38;5;250m \u001B[39m\u001B[34;01m.\u001B[39;00m\u001B[34;01mgraph\u001B[39;00m\u001B[34;01m.\u001B[39;00m\u001B[34;01mpath_finder\u001B[39;00m\u001B[38;5;250m \u001B[39m\u001B[38;5;28;01mimport\u001B[39;00m PathFinder\n\u001B[32m     14\u001B[39m \u001B[38;5;28;01mfrom\u001B[39;00m\u001B[38;5;250m \u001B[39m\u001B[34;01m.\u001B[39;00m\u001B[34;01mcore\u001B[39;00m\u001B[34;01m.\u001B[39;00m\u001B[34;01mpath\u001B[39;00m\u001B[38;5;250m \u001B[39m\u001B[38;5;28;01mimport\u001B[39;00m Path, PathCollection  \u001B[38;5;66;03m# Fixed: import from core.path instead of graph\u001B[39;00m\n\u001B[32m     15\u001B[39m \u001B[38;5;28;01mfrom\u001B[39;00m\u001B[38;5;250m \u001B[39m\u001B[34;01m.\u001B[39;00m\u001B[34;01mcore\u001B[39;00m\u001B[34;01m.\u001B[39;00m\u001B[34;01mcost_assumptions\u001B[39;00m\u001B[38;5;250m \u001B[39m\u001B[38;5;28;01mimport\u001B[39;00m (CostAssumptions, get_zero_cost_assumptions, detect_feature_columns,\n\u001B[32m     16\u001B[39m                                     save_empty_cost_assumptions)\n",
      "\u001B[36mFile \u001B[39m\u001B[32m~\\Documents\\3_python_projects\\pyorps\\pyorps\\graph\\__init__.py:11\u001B[39m\n\u001B[32m      1\u001B[39m \u001B[33;03m\"\"\"\u001B[39;00m\n\u001B[32m      2\u001B[39m \u001B[33;03mGraph operations and routing algorithms for optimal path finding.\u001B[39;00m\n\u001B[32m      3\u001B[39m \n\u001B[32m   (...)\u001B[39m\u001B[32m      7\u001B[39m \u001B[33;03m3. Dynamic loading of graph implementations via get_graph_api_class\u001B[39;00m\n\u001B[32m      8\u001B[39m \u001B[33;03m\"\"\"\u001B[39;00m\n\u001B[32m     10\u001B[39m \u001B[38;5;66;03m# Import main graph class and key function\u001B[39;00m\n\u001B[32m---> \u001B[39m\u001B[32m11\u001B[39m \u001B[38;5;28;01mfrom\u001B[39;00m\u001B[38;5;250m \u001B[39m\u001B[34;01m.\u001B[39;00m\u001B[34;01mpath_finder\u001B[39;00m\u001B[38;5;250m \u001B[39m\u001B[38;5;28;01mimport\u001B[39;00m PathFinder, get_graph_api_class\n\u001B[32m     13\u001B[39m \u001B[38;5;66;03m# Import Path classes from core (do not re-export from graph.raster_graph)\u001B[39;00m\n\u001B[32m     14\u001B[39m \u001B[38;5;28;01mfrom\u001B[39;00m\u001B[38;5;250m \u001B[39m\u001B[34;01m.\u001B[39;00m\u001B[34;01m.\u001B[39;00m\u001B[34;01mcore\u001B[39;00m\u001B[34;01m.\u001B[39;00m\u001B[34;01mpath\u001B[39;00m\u001B[38;5;250m \u001B[39m\u001B[38;5;28;01mimport\u001B[39;00m Path, PathCollection\n",
      "\u001B[36mFile \u001B[39m\u001B[32m~\\Documents\\3_python_projects\\pyorps\\pyorps\\graph\\path_finder.py:24\u001B[39m\n\u001B[32m     19\u001B[39m \u001B[38;5;28;01mfrom\u001B[39;00m\u001B[38;5;250m \u001B[39m\u001B[34;01mpyorps\u001B[39;00m\u001B[34;01m.\u001B[39;00m\u001B[34;01mcore\u001B[39;00m\u001B[34;01m.\u001B[39;00m\u001B[34;01mpath\u001B[39;00m\u001B[38;5;250m \u001B[39m\u001B[38;5;28;01mimport\u001B[39;00m Path, PathCollection\n\u001B[32m     20\u001B[39m \u001B[38;5;28;01mfrom\u001B[39;00m\u001B[38;5;250m \u001B[39m\u001B[34;01mpyorps\u001B[39;00m\u001B[34;01m.\u001B[39;00m\u001B[34;01mcore\u001B[39;00m\u001B[34;01m.\u001B[39;00m\u001B[34;01mtypes\u001B[39;00m\u001B[38;5;250m \u001B[39m\u001B[38;5;28;01mimport\u001B[39;00m (BboxType, GeometryMaskType, InputDataType,\n\u001B[32m     21\u001B[39m                                CostAssumptionsType, CoordinateInput, Node, NodeList,\n\u001B[32m     22\u001B[39m                                NodePathList, NormalizedCoordinate, CoordinateTuple,\n\u001B[32m     23\u001B[39m                                CoordinateList)\n\u001B[32m---> \u001B[39m\u001B[32m24\u001B[39m \u001B[38;5;28;01mfrom\u001B[39;00m\u001B[38;5;250m \u001B[39m\u001B[34;01mpyorps\u001B[39;00m\u001B[34;01m.\u001B[39;00m\u001B[34;01mgraph\u001B[39;00m\u001B[34;01m.\u001B[39;00m\u001B[34;01mapi\u001B[39;00m\u001B[34;01m.\u001B[39;00m\u001B[34;01mgraph_api\u001B[39;00m\u001B[38;5;250m \u001B[39m\u001B[38;5;28;01mimport\u001B[39;00m GraphAPI\n\u001B[32m     25\u001B[39m \u001B[38;5;28;01mfrom\u001B[39;00m\u001B[38;5;250m \u001B[39m\u001B[34;01mpyorps\u001B[39;00m\u001B[34;01m.\u001B[39;00m\u001B[34;01mraster\u001B[39;00m\u001B[34;01m.\u001B[39;00m\u001B[34;01mrasterizer\u001B[39;00m\u001B[38;5;250m \u001B[39m\u001B[38;5;28;01mimport\u001B[39;00m GeoRasterizer\n\u001B[32m     26\u001B[39m \u001B[38;5;28;01mfrom\u001B[39;00m\u001B[38;5;250m \u001B[39m\u001B[34;01mpyorps\u001B[39;00m\u001B[34;01m.\u001B[39;00m\u001B[34;01mraster\u001B[39;00m\u001B[34;01m.\u001B[39;00m\u001B[34;01mhandler\u001B[39;00m\u001B[38;5;250m \u001B[39m\u001B[38;5;28;01mimport\u001B[39;00m RasterHandler\n",
      "\u001B[36mFile \u001B[39m\u001B[32m~\\Documents\\3_python_projects\\pyorps\\pyorps\\graph\\api\\__init__.py:10\u001B[39m\n\u001B[32m      8\u001B[39m \u001B[38;5;66;03m# Base API classes only - specific implementations will be loaded dynamically\u001B[39;00m\n\u001B[32m      9\u001B[39m \u001B[38;5;28;01mfrom\u001B[39;00m\u001B[38;5;250m \u001B[39m\u001B[34;01m.\u001B[39;00m\u001B[34;01mgraph_api\u001B[39;00m\u001B[38;5;250m \u001B[39m\u001B[38;5;28;01mimport\u001B[39;00m GraphAPI\n\u001B[32m---> \u001B[39m\u001B[32m10\u001B[39m \u001B[38;5;28;01mfrom\u001B[39;00m\u001B[38;5;250m \u001B[39m\u001B[34;01m.\u001B[39;00m\u001B[34;01mgraph_library_api\u001B[39;00m\u001B[38;5;250m \u001B[39m\u001B[38;5;28;01mimport\u001B[39;00m GraphLibraryAPI\n\u001B[32m     12\u001B[39m __all__ = [\n\u001B[32m     13\u001B[39m     \u001B[38;5;66;03m# Base API classes\u001B[39;00m\n\u001B[32m     14\u001B[39m     \u001B[33m\"\u001B[39m\u001B[33mGraphAPI\u001B[39m\u001B[33m\"\u001B[39m,\n\u001B[32m     15\u001B[39m     \u001B[33m\"\u001B[39m\u001B[33mGraphLibraryAPI\u001B[39m\u001B[33m\"\u001B[39m\n\u001B[32m     16\u001B[39m ]\n",
      "\u001B[36mFile \u001B[39m\u001B[32m~\\Documents\\3_python_projects\\pyorps\\pyorps\\graph\\api\\graph_library_api.py:33\u001B[39m\n\u001B[32m     31\u001B[39m \u001B[38;5;28;01mfrom\u001B[39;00m\u001B[38;5;250m \u001B[39m\u001B[34;01mpyorps\u001B[39;00m\u001B[34;01m.\u001B[39;00m\u001B[34;01mcore\u001B[39;00m\u001B[34;01m.\u001B[39;00m\u001B[34;01mexceptions\u001B[39;00m\u001B[38;5;250m \u001B[39m\u001B[38;5;28;01mimport\u001B[39;00m NoPathFoundError, PairwiseError\n\u001B[32m     32\u001B[39m \u001B[38;5;28;01mfrom\u001B[39;00m\u001B[38;5;250m \u001B[39m\u001B[34;01mpyorps\u001B[39;00m\u001B[34;01m.\u001B[39;00m\u001B[34;01mcore\u001B[39;00m\u001B[34;01m.\u001B[39;00m\u001B[34;01mtypes\u001B[39;00m\u001B[38;5;250m \u001B[39m\u001B[38;5;28;01mimport\u001B[39;00m SourceTargetType, Node, NodeList, NodePathList\n\u001B[32m---> \u001B[39m\u001B[32m33\u001B[39m \u001B[38;5;28;01mfrom\u001B[39;00m\u001B[38;5;250m \u001B[39m\u001B[34;01mpyorps\u001B[39;00m\u001B[34;01m.\u001B[39;00m\u001B[34;01mutils\u001B[39;00m\u001B[34;01m.\u001B[39;00m\u001B[34;01mtraversal\u001B[39;00m\u001B[38;5;250m \u001B[39m\u001B[38;5;28;01mimport\u001B[39;00m construct_edges\n\u001B[32m     36\u001B[39m \u001B[38;5;28;01mclass\u001B[39;00m\u001B[38;5;250m \u001B[39m\u001B[34;01mGraphLibraryAPI\u001B[39;00m(GraphAPI):\n\u001B[32m     37\u001B[39m \u001B[38;5;250m    \u001B[39m\u001B[33;03m\"\"\"\u001B[39;00m\n\u001B[32m     38\u001B[39m \u001B[33;03m    Base class for all graph library-based APIs.\u001B[39;00m\n\u001B[32m     39\u001B[39m \n\u001B[32m   (...)\u001B[39m\u001B[32m     42\u001B[39m \u001B[33;03m    constructed.\u001B[39;00m\n\u001B[32m     43\u001B[39m \u001B[33;03m    \"\"\"\u001B[39;00m\n",
      "\u001B[36mFile \u001B[39m\u001B[32m~\\Documents\\3_python_projects\\pyorps\\pyorps\\utils\\__init__.py:11\u001B[39m\n\u001B[32m      1\u001B[39m \u001B[33;03m\"\"\"\u001B[39;00m\n\u001B[32m      2\u001B[39m \u001B[33;03mUtility functions for geospatial data processing and visualization.\u001B[39;00m\n\u001B[32m      3\u001B[39m \n\u001B[32m   (...)\u001B[39m\u001B[32m      7\u001B[39m \u001B[33;03m3. Utilities for working with raster indices and graph construction\u001B[39;00m\n\u001B[32m      8\u001B[39m \u001B[33;03m\"\"\"\u001B[39;00m\n\u001B[32m     10\u001B[39m \u001B[38;5;66;03m# Import traversal functions\u001B[39;00m\n\u001B[32m---> \u001B[39m\u001B[32m11\u001B[39m \u001B[38;5;28;01mfrom\u001B[39;00m\u001B[38;5;250m \u001B[39m\u001B[34;01m.\u001B[39;00m\u001B[34;01mtraversal\u001B[39;00m\u001B[38;5;250m \u001B[39m\u001B[38;5;28;01mimport\u001B[39;00m (\n\u001B[32m     12\u001B[39m     \u001B[38;5;66;03m# Core path functions\u001B[39;00m\n\u001B[32m     13\u001B[39m     calculate_path_metrics_numba,\n\u001B[32m     14\u001B[39m     intermediate_steps_numba,\n\u001B[32m     15\u001B[39m \n\u001B[32m     16\u001B[39m     \u001B[38;5;66;03m# Graph construction helpers\u001B[39;00m\n\u001B[32m     17\u001B[39m     construct_edges,\n\u001B[32m     18\u001B[39m     get_max_number_of_edges,\n\u001B[32m     19\u001B[39m \n\u001B[32m     20\u001B[39m     \u001B[38;5;66;03m# Distance calculations\u001B[39;00m\n\u001B[32m     21\u001B[39m     euclidean_distances_numba,\n\u001B[32m     22\u001B[39m     get_cost_factor_numba,\n\u001B[32m     23\u001B[39m \n\u001B[32m     24\u001B[39m     \u001B[38;5;66;03m# Index manipulation\u001B[39;00m\n\u001B[32m     25\u001B[39m     ravel_index,\n\u001B[32m     26\u001B[39m     calculate_region_bounds,\n\u001B[32m     27\u001B[39m \n\u001B[32m     28\u001B[39m     \u001B[38;5;66;03m# Node validation\u001B[39;00m\n\u001B[32m     29\u001B[39m     is_valid_node,\n\u001B[32m     30\u001B[39m     find_valid_nodes,\n\u001B[32m     31\u001B[39m \n\u001B[32m     32\u001B[39m     \u001B[38;5;66;03m# Path analysis\u001B[39;00m\n\u001B[32m     33\u001B[39m     get_outgoing_edges,\n\u001B[32m     34\u001B[39m     calculate_segment_length\n\u001B[32m     35\u001B[39m )\n\u001B[32m     37\u001B[39m \u001B[38;5;66;03m# pyorps/utils/__init__.py\u001B[39;00m\n\u001B[32m     38\u001B[39m \n\u001B[32m     39\u001B[39m \u001B[38;5;66;03m# Try to import Cython extensions\u001B[39;00m\n\u001B[32m     40\u001B[39m \u001B[38;5;28;01mtry\u001B[39;00m:\n",
      "\u001B[36mFile \u001B[39m\u001B[32m~\\Documents\\3_python_projects\\pyorps\\pyorps\\utils\\traversal.py:136\u001B[39m\n\u001B[32m    119\u001B[39m \u001B[38;5;250m    \u001B[39m\u001B[33;03m\"\"\"\u001B[39;00m\n\u001B[32m    120\u001B[39m \u001B[33;03m    Convert 2D grid coordinates to 1D linear index.\u001B[39;00m\n\u001B[32m    121\u001B[39m \n\u001B[32m   (...)\u001B[39m\u001B[32m    131\u001B[39m \u001B[33;03m        int: Linear index corresponding to the 2D coordinates\u001B[39;00m\n\u001B[32m    132\u001B[39m \u001B[33;03m    \"\"\"\u001B[39;00m\n\u001B[32m    133\u001B[39m     \u001B[38;5;28;01mreturn\u001B[39;00m uint32_type(row * cols + col)\n\u001B[32m--> \u001B[39m\u001B[32m136\u001B[39m \u001B[38;5;129;43m@nb\u001B[39;49m\u001B[43m.\u001B[49m\u001B[43mnjit\u001B[49m\u001B[43m(\u001B[49m\u001B[43muint32_1d_array\u001B[49m\u001B[43m(\u001B[49m\u001B[43mint8_type\u001B[49m\u001B[43m,\u001B[49m\u001B[43m \u001B[49m\u001B[43mint8_type\u001B[49m\u001B[43m,\u001B[49m\u001B[43m \u001B[49m\u001B[43mpyint_type\u001B[49m\u001B[43m,\u001B[49m\u001B[43m \u001B[49m\u001B[43mpyint_type\u001B[49m\u001B[43m)\u001B[49m\u001B[43m,\u001B[49m\n\u001B[32m    137\u001B[39m \u001B[43m         \u001B[49m\u001B[43mcache\u001B[49m\u001B[43m=\u001B[49m\u001B[38;5;28;43;01mTrue\u001B[39;49;00m\u001B[43m,\u001B[49m\u001B[43m \u001B[49m\u001B[43mfastmath\u001B[49m\u001B[43m=\u001B[49m\u001B[38;5;28;43;01mTrue\u001B[39;49;00m\u001B[43m)\u001B[49m\n\u001B[32m    138\u001B[39m \u001B[38;5;28;43;01mdef\u001B[39;49;00m\u001B[38;5;250;43m \u001B[39;49m\u001B[34;43mcalculate_region_bounds\u001B[39;49m\u001B[43m(\u001B[49m\u001B[43mdr\u001B[49m\u001B[43m:\u001B[49m\u001B[43m \u001B[49m\u001B[43mint8_type\u001B[49m\u001B[43m,\u001B[49m\u001B[43m \u001B[49m\u001B[43mdc\u001B[49m\u001B[43m:\u001B[49m\u001B[43m \u001B[49m\u001B[43mint8_type\u001B[49m\u001B[43m,\u001B[49m\n\u001B[32m    139\u001B[39m \u001B[43m                            \u001B[49m\u001B[43mrows\u001B[49m\u001B[43m:\u001B[49m\u001B[43m \u001B[49m\u001B[43mpyint_type\u001B[49m\u001B[43m,\u001B[49m\u001B[43m \u001B[49m\u001B[43mcols\u001B[49m\u001B[43m:\u001B[49m\u001B[43m \u001B[49m\u001B[43mpyint_type\u001B[49m\u001B[43m)\u001B[49m\u001B[43m \u001B[49m\u001B[43m-\u001B[49m\u001B[43m>\u001B[49m\u001B[43m \u001B[49m\u001B[43muint32_1d_array\u001B[49m\u001B[43m:\u001B[49m\n\u001B[32m    140\u001B[39m \u001B[38;5;250;43m    \u001B[39;49m\u001B[33;43;03m\"\"\"\u001B[39;49;00m\n\u001B[32m    141\u001B[39m \u001B[33;43;03m    Calculate valid region bounds for source and target areas in graph construction.\u001B[39;49;00m\n\u001B[32m    142\u001B[39m \n\u001B[32m   (...)\u001B[39m\u001B[32m    157\u001B[39m \u001B[33;43;03m        [1]\u001B[39;49;00m\n\u001B[32m    158\u001B[39m \u001B[33;43;03m    \"\"\"\u001B[39;49;00m\n\u001B[32m    159\u001B[39m \u001B[43m    \u001B[49m\u001B[43ms_c_end\u001B[49m\u001B[43m,\u001B[49m\u001B[43m \u001B[49m\u001B[43ms_c_start\u001B[49m\u001B[43m,\u001B[49m\u001B[43m \u001B[49m\u001B[43ms_r_end\u001B[49m\u001B[43m,\u001B[49m\u001B[43m \u001B[49m\u001B[43ms_r_start\u001B[49m\u001B[43m \u001B[49m\u001B[43m=\u001B[49m\u001B[43m \u001B[49m\u001B[43m_calculate_source_region_bounds\u001B[49m\u001B[43m(\u001B[49m\u001B[43mdr\u001B[49m\u001B[43m,\u001B[49m\u001B[43m \u001B[49m\u001B[43mrows\u001B[49m\u001B[43m,\u001B[49m\n\u001B[32m    160\u001B[39m \u001B[43m                                                                             \u001B[49m\u001B[43mdc\u001B[49m\u001B[43m,\u001B[49m\u001B[43m \u001B[49m\u001B[43mcols\u001B[49m\u001B[43m)\u001B[49m\n",
      "\u001B[36mFile \u001B[39m\u001B[32m~\\Documents\\3_python_projects\\pyorps\\.venv\\Lib\\site-packages\\numba\\core\\decorators.py:232\u001B[39m, in \u001B[36m_jit.<locals>.wrapper\u001B[39m\u001B[34m(func)\u001B[39m\n\u001B[32m    230\u001B[39m     \u001B[38;5;28;01mwith\u001B[39;00m typeinfer.register_dispatcher(disp):\n\u001B[32m    231\u001B[39m         \u001B[38;5;28;01mfor\u001B[39;00m sig \u001B[38;5;129;01min\u001B[39;00m sigs:\n\u001B[32m--> \u001B[39m\u001B[32m232\u001B[39m             \u001B[43mdisp\u001B[49m\u001B[43m.\u001B[49m\u001B[43mcompile\u001B[49m\u001B[43m(\u001B[49m\u001B[43msig\u001B[49m\u001B[43m)\u001B[49m\n\u001B[32m    233\u001B[39m         disp.disable_compile()\n\u001B[32m    234\u001B[39m \u001B[38;5;28;01mreturn\u001B[39;00m disp\n",
      "\u001B[36mFile \u001B[39m\u001B[32m~\\Documents\\3_python_projects\\pyorps\\.venv\\Lib\\site-packages\\numba\\core\\dispatcher.py:904\u001B[39m, in \u001B[36mDispatcher.compile\u001B[39m\u001B[34m(self, sig)\u001B[39m\n\u001B[32m    902\u001B[39m \u001B[38;5;28;01mwith\u001B[39;00m ev.trigger_event(\u001B[33m\"\u001B[39m\u001B[33mnumba:compile\u001B[39m\u001B[33m\"\u001B[39m, data=ev_details):\n\u001B[32m    903\u001B[39m     \u001B[38;5;28;01mtry\u001B[39;00m:\n\u001B[32m--> \u001B[39m\u001B[32m904\u001B[39m         cres = \u001B[38;5;28;43mself\u001B[39;49m\u001B[43m.\u001B[49m\u001B[43m_compiler\u001B[49m\u001B[43m.\u001B[49m\u001B[43mcompile\u001B[49m\u001B[43m(\u001B[49m\u001B[43margs\u001B[49m\u001B[43m,\u001B[49m\u001B[43m \u001B[49m\u001B[43mreturn_type\u001B[49m\u001B[43m)\u001B[49m\n\u001B[32m    905\u001B[39m     \u001B[38;5;28;01mexcept\u001B[39;00m errors.ForceLiteralArg \u001B[38;5;28;01mas\u001B[39;00m e:\n\u001B[32m    906\u001B[39m         \u001B[38;5;28;01mdef\u001B[39;00m\u001B[38;5;250m \u001B[39m\u001B[34mfolded\u001B[39m(args, kws):\n",
      "\u001B[36mFile \u001B[39m\u001B[32m~\\Documents\\3_python_projects\\pyorps\\.venv\\Lib\\site-packages\\numba\\core\\dispatcher.py:84\u001B[39m, in \u001B[36m_FunctionCompiler.compile\u001B[39m\u001B[34m(self, args, return_type)\u001B[39m\n\u001B[32m     82\u001B[39m     \u001B[38;5;28;01mreturn\u001B[39;00m retval\n\u001B[32m     83\u001B[39m \u001B[38;5;28;01melse\u001B[39;00m:\n\u001B[32m---> \u001B[39m\u001B[32m84\u001B[39m     \u001B[38;5;28;01mraise\u001B[39;00m retval\n",
      "\u001B[36mFile \u001B[39m\u001B[32m~\\Documents\\3_python_projects\\pyorps\\.venv\\Lib\\site-packages\\numba\\core\\dispatcher.py:94\u001B[39m, in \u001B[36m_FunctionCompiler._compile_cached\u001B[39m\u001B[34m(self, args, return_type)\u001B[39m\n\u001B[32m     91\u001B[39m     \u001B[38;5;28;01mpass\u001B[39;00m\n\u001B[32m     93\u001B[39m \u001B[38;5;28;01mtry\u001B[39;00m:\n\u001B[32m---> \u001B[39m\u001B[32m94\u001B[39m     retval = \u001B[38;5;28;43mself\u001B[39;49m\u001B[43m.\u001B[49m\u001B[43m_compile_core\u001B[49m\u001B[43m(\u001B[49m\u001B[43margs\u001B[49m\u001B[43m,\u001B[49m\u001B[43m \u001B[49m\u001B[43mreturn_type\u001B[49m\u001B[43m)\u001B[49m\n\u001B[32m     95\u001B[39m \u001B[38;5;28;01mexcept\u001B[39;00m errors.TypingError \u001B[38;5;28;01mas\u001B[39;00m e:\n\u001B[32m     96\u001B[39m     \u001B[38;5;28mself\u001B[39m._failed_cache[key] = e\n",
      "\u001B[36mFile \u001B[39m\u001B[32m~\\Documents\\3_python_projects\\pyorps\\.venv\\Lib\\site-packages\\numba\\core\\dispatcher.py:107\u001B[39m, in \u001B[36m_FunctionCompiler._compile_core\u001B[39m\u001B[34m(self, args, return_type)\u001B[39m\n\u001B[32m    104\u001B[39m flags = \u001B[38;5;28mself\u001B[39m._customize_flags(flags)\n\u001B[32m    106\u001B[39m impl = \u001B[38;5;28mself\u001B[39m._get_implementation(args, {})\n\u001B[32m--> \u001B[39m\u001B[32m107\u001B[39m cres = \u001B[43mcompiler\u001B[49m\u001B[43m.\u001B[49m\u001B[43mcompile_extra\u001B[49m\u001B[43m(\u001B[49m\u001B[38;5;28;43mself\u001B[39;49m\u001B[43m.\u001B[49m\u001B[43mtargetdescr\u001B[49m\u001B[43m.\u001B[49m\u001B[43mtyping_context\u001B[49m\u001B[43m,\u001B[49m\n\u001B[32m    108\u001B[39m \u001B[43m                              \u001B[49m\u001B[38;5;28;43mself\u001B[39;49m\u001B[43m.\u001B[49m\u001B[43mtargetdescr\u001B[49m\u001B[43m.\u001B[49m\u001B[43mtarget_context\u001B[49m\u001B[43m,\u001B[49m\n\u001B[32m    109\u001B[39m \u001B[43m                              \u001B[49m\u001B[43mimpl\u001B[49m\u001B[43m,\u001B[49m\n\u001B[32m    110\u001B[39m \u001B[43m                              \u001B[49m\u001B[43margs\u001B[49m\u001B[43m=\u001B[49m\u001B[43margs\u001B[49m\u001B[43m,\u001B[49m\u001B[43m \u001B[49m\u001B[43mreturn_type\u001B[49m\u001B[43m=\u001B[49m\u001B[43mreturn_type\u001B[49m\u001B[43m,\u001B[49m\n\u001B[32m    111\u001B[39m \u001B[43m                              \u001B[49m\u001B[43mflags\u001B[49m\u001B[43m=\u001B[49m\u001B[43mflags\u001B[49m\u001B[43m,\u001B[49m\u001B[43m \u001B[49m\u001B[38;5;28;43mlocals\u001B[39;49m\u001B[43m=\u001B[49m\u001B[38;5;28;43mself\u001B[39;49m\u001B[43m.\u001B[49m\u001B[43mlocals\u001B[49m\u001B[43m,\u001B[49m\n\u001B[32m    112\u001B[39m \u001B[43m                              \u001B[49m\u001B[43mpipeline_class\u001B[49m\u001B[43m=\u001B[49m\u001B[38;5;28;43mself\u001B[39;49m\u001B[43m.\u001B[49m\u001B[43mpipeline_class\u001B[49m\u001B[43m)\u001B[49m\n\u001B[32m    113\u001B[39m \u001B[38;5;66;03m# Check typing error if object mode is used\u001B[39;00m\n\u001B[32m    114\u001B[39m \u001B[38;5;28;01mif\u001B[39;00m cres.typing_error \u001B[38;5;129;01mis\u001B[39;00m \u001B[38;5;129;01mnot\u001B[39;00m \u001B[38;5;28;01mNone\u001B[39;00m \u001B[38;5;129;01mand\u001B[39;00m \u001B[38;5;129;01mnot\u001B[39;00m flags.enable_pyobject:\n",
      "\u001B[36mFile \u001B[39m\u001B[32m~\\Documents\\3_python_projects\\pyorps\\.venv\\Lib\\site-packages\\numba\\core\\compiler.py:739\u001B[39m, in \u001B[36mcompile_extra\u001B[39m\u001B[34m(typingctx, targetctx, func, args, return_type, flags, locals, library, pipeline_class)\u001B[39m\n\u001B[32m    715\u001B[39m \u001B[38;5;250m\u001B[39m\u001B[33;03m\"\"\"Compiler entry point\u001B[39;00m\n\u001B[32m    716\u001B[39m \n\u001B[32m    717\u001B[39m \u001B[33;03mParameter\u001B[39;00m\n\u001B[32m   (...)\u001B[39m\u001B[32m    735\u001B[39m \u001B[33;03m    compiler pipeline\u001B[39;00m\n\u001B[32m    736\u001B[39m \u001B[33;03m\"\"\"\u001B[39;00m\n\u001B[32m    737\u001B[39m pipeline = pipeline_class(typingctx, targetctx, library,\n\u001B[32m    738\u001B[39m                           args, return_type, flags, \u001B[38;5;28mlocals\u001B[39m)\n\u001B[32m--> \u001B[39m\u001B[32m739\u001B[39m \u001B[38;5;28;01mreturn\u001B[39;00m \u001B[43mpipeline\u001B[49m\u001B[43m.\u001B[49m\u001B[43mcompile_extra\u001B[49m\u001B[43m(\u001B[49m\u001B[43mfunc\u001B[49m\u001B[43m)\u001B[49m\n",
      "\u001B[36mFile \u001B[39m\u001B[32m~\\Documents\\3_python_projects\\pyorps\\.venv\\Lib\\site-packages\\numba\\core\\compiler.py:439\u001B[39m, in \u001B[36mCompilerBase.compile_extra\u001B[39m\u001B[34m(self, func)\u001B[39m\n\u001B[32m    437\u001B[39m \u001B[38;5;28mself\u001B[39m.state.lifted = ()\n\u001B[32m    438\u001B[39m \u001B[38;5;28mself\u001B[39m.state.lifted_from = \u001B[38;5;28;01mNone\u001B[39;00m\n\u001B[32m--> \u001B[39m\u001B[32m439\u001B[39m \u001B[38;5;28;01mreturn\u001B[39;00m \u001B[38;5;28;43mself\u001B[39;49m\u001B[43m.\u001B[49m\u001B[43m_compile_bytecode\u001B[49m\u001B[43m(\u001B[49m\u001B[43m)\u001B[49m\n",
      "\u001B[36mFile \u001B[39m\u001B[32m~\\Documents\\3_python_projects\\pyorps\\.venv\\Lib\\site-packages\\numba\\core\\compiler.py:505\u001B[39m, in \u001B[36mCompilerBase._compile_bytecode\u001B[39m\u001B[34m(self)\u001B[39m\n\u001B[32m    501\u001B[39m \u001B[38;5;250m\u001B[39m\u001B[33;03m\"\"\"\u001B[39;00m\n\u001B[32m    502\u001B[39m \u001B[33;03mPopulate and run pipeline for bytecode input\u001B[39;00m\n\u001B[32m    503\u001B[39m \u001B[33;03m\"\"\"\u001B[39;00m\n\u001B[32m    504\u001B[39m \u001B[38;5;28;01massert\u001B[39;00m \u001B[38;5;28mself\u001B[39m.state.func_ir \u001B[38;5;129;01mis\u001B[39;00m \u001B[38;5;28;01mNone\u001B[39;00m\n\u001B[32m--> \u001B[39m\u001B[32m505\u001B[39m \u001B[38;5;28;01mreturn\u001B[39;00m \u001B[38;5;28;43mself\u001B[39;49m\u001B[43m.\u001B[49m\u001B[43m_compile_core\u001B[49m\u001B[43m(\u001B[49m\u001B[43m)\u001B[49m\n",
      "\u001B[36mFile \u001B[39m\u001B[32m~\\Documents\\3_python_projects\\pyorps\\.venv\\Lib\\site-packages\\numba\\core\\compiler.py:484\u001B[39m, in \u001B[36mCompilerBase._compile_core\u001B[39m\u001B[34m(self)\u001B[39m\n\u001B[32m    482\u001B[39m         \u001B[38;5;28mself\u001B[39m.state.status.fail_reason = e\n\u001B[32m    483\u001B[39m         \u001B[38;5;28;01mif\u001B[39;00m is_final_pipeline:\n\u001B[32m--> \u001B[39m\u001B[32m484\u001B[39m             \u001B[38;5;28;01mraise\u001B[39;00m e\n\u001B[32m    485\u001B[39m \u001B[38;5;28;01melse\u001B[39;00m:\n\u001B[32m    486\u001B[39m     \u001B[38;5;28;01mraise\u001B[39;00m CompilerError(\u001B[33m\"\u001B[39m\u001B[33mAll available pipelines exhausted\u001B[39m\u001B[33m\"\u001B[39m)\n",
      "\u001B[36mFile \u001B[39m\u001B[32m~\\Documents\\3_python_projects\\pyorps\\.venv\\Lib\\site-packages\\numba\\core\\compiler.py:473\u001B[39m, in \u001B[36mCompilerBase._compile_core\u001B[39m\u001B[34m(self)\u001B[39m\n\u001B[32m    471\u001B[39m res = \u001B[38;5;28;01mNone\u001B[39;00m\n\u001B[32m    472\u001B[39m \u001B[38;5;28;01mtry\u001B[39;00m:\n\u001B[32m--> \u001B[39m\u001B[32m473\u001B[39m     \u001B[43mpm\u001B[49m\u001B[43m.\u001B[49m\u001B[43mrun\u001B[49m\u001B[43m(\u001B[49m\u001B[38;5;28;43mself\u001B[39;49m\u001B[43m.\u001B[49m\u001B[43mstate\u001B[49m\u001B[43m)\u001B[49m\n\u001B[32m    474\u001B[39m     \u001B[38;5;28;01mif\u001B[39;00m \u001B[38;5;28mself\u001B[39m.state.cr \u001B[38;5;129;01mis\u001B[39;00m \u001B[38;5;129;01mnot\u001B[39;00m \u001B[38;5;28;01mNone\u001B[39;00m:\n\u001B[32m    475\u001B[39m         \u001B[38;5;28;01mbreak\u001B[39;00m\n",
      "\u001B[36mFile \u001B[39m\u001B[32m~\\Documents\\3_python_projects\\pyorps\\.venv\\Lib\\site-packages\\numba\\core\\compiler_machinery.py:367\u001B[39m, in \u001B[36mPassManager.run\u001B[39m\u001B[34m(self, state)\u001B[39m\n\u001B[32m    364\u001B[39m msg = \u001B[33m\"\u001B[39m\u001B[33mFailed in \u001B[39m\u001B[38;5;132;01m%s\u001B[39;00m\u001B[33m mode pipeline (step: \u001B[39m\u001B[38;5;132;01m%s\u001B[39;00m\u001B[33m)\u001B[39m\u001B[33m\"\u001B[39m % \\\n\u001B[32m    365\u001B[39m     (\u001B[38;5;28mself\u001B[39m.pipeline_name, pass_desc)\n\u001B[32m    366\u001B[39m patched_exception = \u001B[38;5;28mself\u001B[39m._patch_error(msg, e)\n\u001B[32m--> \u001B[39m\u001B[32m367\u001B[39m \u001B[38;5;28;01mraise\u001B[39;00m patched_exception\n",
      "\u001B[36mFile \u001B[39m\u001B[32m~\\Documents\\3_python_projects\\pyorps\\.venv\\Lib\\site-packages\\numba\\core\\compiler_machinery.py:356\u001B[39m, in \u001B[36mPassManager.run\u001B[39m\u001B[34m(self, state)\u001B[39m\n\u001B[32m    354\u001B[39m pass_inst = _pass_registry.get(pss).pass_inst\n\u001B[32m    355\u001B[39m \u001B[38;5;28;01mif\u001B[39;00m \u001B[38;5;28misinstance\u001B[39m(pass_inst, CompilerPass):\n\u001B[32m--> \u001B[39m\u001B[32m356\u001B[39m     \u001B[38;5;28;43mself\u001B[39;49m\u001B[43m.\u001B[49m\u001B[43m_runPass\u001B[49m\u001B[43m(\u001B[49m\u001B[43midx\u001B[49m\u001B[43m,\u001B[49m\u001B[43m \u001B[49m\u001B[43mpass_inst\u001B[49m\u001B[43m,\u001B[49m\u001B[43m \u001B[49m\u001B[43mstate\u001B[49m\u001B[43m)\u001B[49m\n\u001B[32m    357\u001B[39m \u001B[38;5;28;01melse\u001B[39;00m:\n\u001B[32m    358\u001B[39m     \u001B[38;5;28;01mraise\u001B[39;00m \u001B[38;5;167;01mBaseException\u001B[39;00m(\u001B[33m\"\u001B[39m\u001B[33mLegacy pass in use\u001B[39m\u001B[33m\"\u001B[39m)\n",
      "\u001B[36mFile \u001B[39m\u001B[32m~\\Documents\\3_python_projects\\pyorps\\.venv\\Lib\\site-packages\\numba\\core\\compiler_lock.py:35\u001B[39m, in \u001B[36m_CompilerLock.__call__.<locals>._acquire_compile_lock\u001B[39m\u001B[34m(*args, **kwargs)\u001B[39m\n\u001B[32m     32\u001B[39m \u001B[38;5;129m@functools\u001B[39m.wraps(func)\n\u001B[32m     33\u001B[39m \u001B[38;5;28;01mdef\u001B[39;00m\u001B[38;5;250m \u001B[39m\u001B[34m_acquire_compile_lock\u001B[39m(*args, **kwargs):\n\u001B[32m     34\u001B[39m     \u001B[38;5;28;01mwith\u001B[39;00m \u001B[38;5;28mself\u001B[39m:\n\u001B[32m---> \u001B[39m\u001B[32m35\u001B[39m         \u001B[38;5;28;01mreturn\u001B[39;00m \u001B[43mfunc\u001B[49m\u001B[43m(\u001B[49m\u001B[43m*\u001B[49m\u001B[43margs\u001B[49m\u001B[43m,\u001B[49m\u001B[43m \u001B[49m\u001B[43m*\u001B[49m\u001B[43m*\u001B[49m\u001B[43mkwargs\u001B[49m\u001B[43m)\u001B[49m\n",
      "\u001B[36mFile \u001B[39m\u001B[32m~\\Documents\\3_python_projects\\pyorps\\.venv\\Lib\\site-packages\\numba\\core\\compiler_machinery.py:311\u001B[39m, in \u001B[36mPassManager._runPass\u001B[39m\u001B[34m(self, index, pss, internal_state)\u001B[39m\n\u001B[32m    309\u001B[39m     mutated |= check(pss.run_initialization, internal_state)\n\u001B[32m    310\u001B[39m \u001B[38;5;28;01mwith\u001B[39;00m SimpleTimer() \u001B[38;5;28;01mas\u001B[39;00m pass_time:\n\u001B[32m--> \u001B[39m\u001B[32m311\u001B[39m     mutated |= \u001B[43mcheck\u001B[49m\u001B[43m(\u001B[49m\u001B[43mpss\u001B[49m\u001B[43m.\u001B[49m\u001B[43mrun_pass\u001B[49m\u001B[43m,\u001B[49m\u001B[43m \u001B[49m\u001B[43minternal_state\u001B[49m\u001B[43m)\u001B[49m\n\u001B[32m    312\u001B[39m \u001B[38;5;28;01mwith\u001B[39;00m SimpleTimer() \u001B[38;5;28;01mas\u001B[39;00m finalize_time:\n\u001B[32m    313\u001B[39m     mutated |= check(pss.run_finalizer, internal_state)\n",
      "\u001B[36mFile \u001B[39m\u001B[32m~\\Documents\\3_python_projects\\pyorps\\.venv\\Lib\\site-packages\\numba\\core\\compiler_machinery.py:272\u001B[39m, in \u001B[36mPassManager._runPass.<locals>.check\u001B[39m\u001B[34m(func, compiler_state)\u001B[39m\n\u001B[32m    271\u001B[39m \u001B[38;5;28;01mdef\u001B[39;00m\u001B[38;5;250m \u001B[39m\u001B[34mcheck\u001B[39m(func, compiler_state):\n\u001B[32m--> \u001B[39m\u001B[32m272\u001B[39m     mangled = \u001B[43mfunc\u001B[49m\u001B[43m(\u001B[49m\u001B[43mcompiler_state\u001B[49m\u001B[43m)\u001B[49m\n\u001B[32m    273\u001B[39m     \u001B[38;5;28;01mif\u001B[39;00m mangled \u001B[38;5;129;01mnot\u001B[39;00m \u001B[38;5;129;01min\u001B[39;00m (\u001B[38;5;28;01mTrue\u001B[39;00m, \u001B[38;5;28;01mFalse\u001B[39;00m):\n\u001B[32m    274\u001B[39m         msg = (\u001B[33m\"\u001B[39m\u001B[33mCompilerPass implementations should return True/False. \u001B[39m\u001B[33m\"\u001B[39m\n\u001B[32m    275\u001B[39m                \u001B[33m\"\u001B[39m\u001B[33mCompilerPass with name \u001B[39m\u001B[33m'\u001B[39m\u001B[38;5;132;01m%s\u001B[39;00m\u001B[33m'\u001B[39m\u001B[33m did not.\u001B[39m\u001B[33m\"\u001B[39m)\n",
      "\u001B[36mFile \u001B[39m\u001B[32m~\\Documents\\3_python_projects\\pyorps\\.venv\\Lib\\site-packages\\numba\\core\\typed_passes.py:112\u001B[39m, in \u001B[36mBaseTypeInference.run_pass\u001B[39m\u001B[34m(self, state)\u001B[39m\n\u001B[32m    106\u001B[39m \u001B[38;5;250m\u001B[39m\u001B[33;03m\"\"\"\u001B[39;00m\n\u001B[32m    107\u001B[39m \u001B[33;03mType inference and legalization\u001B[39;00m\n\u001B[32m    108\u001B[39m \u001B[33;03m\"\"\"\u001B[39;00m\n\u001B[32m    109\u001B[39m \u001B[38;5;28;01mwith\u001B[39;00m fallback_context(state, \u001B[33m'\u001B[39m\u001B[33mFunction \u001B[39m\u001B[33m\"\u001B[39m\u001B[38;5;132;01m%s\u001B[39;00m\u001B[33m\"\u001B[39m\u001B[33m failed type inference\u001B[39m\u001B[33m'\u001B[39m\n\u001B[32m    110\u001B[39m                       % (state.func_id.func_name,)):\n\u001B[32m    111\u001B[39m     \u001B[38;5;66;03m# Type inference\u001B[39;00m\n\u001B[32m--> \u001B[39m\u001B[32m112\u001B[39m     typemap, return_type, calltypes, errs = \u001B[43mtype_inference_stage\u001B[49m\u001B[43m(\u001B[49m\n\u001B[32m    113\u001B[39m \u001B[43m        \u001B[49m\u001B[43mstate\u001B[49m\u001B[43m.\u001B[49m\u001B[43mtypingctx\u001B[49m\u001B[43m,\u001B[49m\n\u001B[32m    114\u001B[39m \u001B[43m        \u001B[49m\u001B[43mstate\u001B[49m\u001B[43m.\u001B[49m\u001B[43mtargetctx\u001B[49m\u001B[43m,\u001B[49m\n\u001B[32m    115\u001B[39m \u001B[43m        \u001B[49m\u001B[43mstate\u001B[49m\u001B[43m.\u001B[49m\u001B[43mfunc_ir\u001B[49m\u001B[43m,\u001B[49m\n\u001B[32m    116\u001B[39m \u001B[43m        \u001B[49m\u001B[43mstate\u001B[49m\u001B[43m.\u001B[49m\u001B[43margs\u001B[49m\u001B[43m,\u001B[49m\n\u001B[32m    117\u001B[39m \u001B[43m        \u001B[49m\u001B[43mstate\u001B[49m\u001B[43m.\u001B[49m\u001B[43mreturn_type\u001B[49m\u001B[43m,\u001B[49m\n\u001B[32m    118\u001B[39m \u001B[43m        \u001B[49m\u001B[43mstate\u001B[49m\u001B[43m.\u001B[49m\u001B[43mlocals\u001B[49m\u001B[43m,\u001B[49m\n\u001B[32m    119\u001B[39m \u001B[43m        \u001B[49m\u001B[43mraise_errors\u001B[49m\u001B[43m=\u001B[49m\u001B[38;5;28;43mself\u001B[39;49m\u001B[43m.\u001B[49m\u001B[43m_raise_errors\u001B[49m\u001B[43m)\u001B[49m\n\u001B[32m    120\u001B[39m     state.typemap = typemap\n\u001B[32m    121\u001B[39m     \u001B[38;5;66;03m# save errors in case of partial typing\u001B[39;00m\n",
      "\u001B[36mFile \u001B[39m\u001B[32m~\\Documents\\3_python_projects\\pyorps\\.venv\\Lib\\site-packages\\numba\\core\\typed_passes.py:91\u001B[39m, in \u001B[36mtype_inference_stage\u001B[39m\u001B[34m(typingctx, targetctx, interp, args, return_type, locals, raise_errors)\u001B[39m\n\u001B[32m     88\u001B[39m \u001B[38;5;28;01mfor\u001B[39;00m k, v \u001B[38;5;129;01min\u001B[39;00m \u001B[38;5;28mlocals\u001B[39m.items():\n\u001B[32m     89\u001B[39m     infer.seed_type(k, v)\n\u001B[32m---> \u001B[39m\u001B[32m91\u001B[39m \u001B[43minfer\u001B[49m\u001B[43m.\u001B[49m\u001B[43mbuild_constraint\u001B[49m\u001B[43m(\u001B[49m\u001B[43m)\u001B[49m\n\u001B[32m     92\u001B[39m \u001B[38;5;66;03m# return errors in case of partial typing\u001B[39;00m\n\u001B[32m     93\u001B[39m errs = infer.propagate(raise_errors=raise_errors)\n",
      "\u001B[36mFile \u001B[39m\u001B[32m~\\Documents\\3_python_projects\\pyorps\\.venv\\Lib\\site-packages\\numba\\core\\typeinfer.py:1027\u001B[39m, in \u001B[36mTypeInferer.build_constraint\u001B[39m\u001B[34m(self)\u001B[39m\n\u001B[32m   1025\u001B[39m \u001B[38;5;28;01mfor\u001B[39;00m blk \u001B[38;5;129;01min\u001B[39;00m \u001B[38;5;28mself\u001B[39m.blocks.values():\n\u001B[32m   1026\u001B[39m     \u001B[38;5;28;01mfor\u001B[39;00m inst \u001B[38;5;129;01min\u001B[39;00m blk.body:\n\u001B[32m-> \u001B[39m\u001B[32m1027\u001B[39m         \u001B[38;5;28;43mself\u001B[39;49m\u001B[43m.\u001B[49m\u001B[43mconstrain_statement\u001B[49m\u001B[43m(\u001B[49m\u001B[43minst\u001B[49m\u001B[43m)\u001B[49m\n",
      "\u001B[36mFile \u001B[39m\u001B[32m~\\Documents\\3_python_projects\\pyorps\\.venv\\Lib\\site-packages\\numba\\core\\typeinfer.py:1389\u001B[39m, in \u001B[36mTypeInferer.constrain_statement\u001B[39m\u001B[34m(self, inst)\u001B[39m\n\u001B[32m   1387\u001B[39m \u001B[38;5;28;01mdef\u001B[39;00m\u001B[38;5;250m \u001B[39m\u001B[34mconstrain_statement\u001B[39m(\u001B[38;5;28mself\u001B[39m, inst):\n\u001B[32m   1388\u001B[39m     \u001B[38;5;28;01mif\u001B[39;00m \u001B[38;5;28misinstance\u001B[39m(inst, ir.Assign):\n\u001B[32m-> \u001B[39m\u001B[32m1389\u001B[39m         \u001B[38;5;28;43mself\u001B[39;49m\u001B[43m.\u001B[49m\u001B[43mtypeof_assign\u001B[49m\u001B[43m(\u001B[49m\u001B[43minst\u001B[49m\u001B[43m)\u001B[49m\n\u001B[32m   1390\u001B[39m     \u001B[38;5;28;01melif\u001B[39;00m \u001B[38;5;28misinstance\u001B[39m(inst, ir.SetItem):\n\u001B[32m   1391\u001B[39m         \u001B[38;5;28mself\u001B[39m.typeof_setitem(inst)\n",
      "\u001B[36mFile \u001B[39m\u001B[32m~\\Documents\\3_python_projects\\pyorps\\.venv\\Lib\\site-packages\\numba\\core\\typeinfer.py:1464\u001B[39m, in \u001B[36mTypeInferer.typeof_assign\u001B[39m\u001B[34m(self, inst)\u001B[39m\n\u001B[32m   1461\u001B[39m     \u001B[38;5;28mself\u001B[39m.constraints.append(Propagate(dst=inst.target.name,\n\u001B[32m   1462\u001B[39m                                       src=value.name, loc=inst.loc))\n\u001B[32m   1463\u001B[39m \u001B[38;5;28;01melif\u001B[39;00m \u001B[38;5;28misinstance\u001B[39m(value, (ir.Global, ir.FreeVar)):\n\u001B[32m-> \u001B[39m\u001B[32m1464\u001B[39m     \u001B[38;5;28;43mself\u001B[39;49m\u001B[43m.\u001B[49m\u001B[43mtypeof_global\u001B[49m\u001B[43m(\u001B[49m\u001B[43minst\u001B[49m\u001B[43m,\u001B[49m\u001B[43m \u001B[49m\u001B[43minst\u001B[49m\u001B[43m.\u001B[49m\u001B[43mtarget\u001B[49m\u001B[43m,\u001B[49m\u001B[43m \u001B[49m\u001B[43mvalue\u001B[49m\u001B[43m)\u001B[49m\n\u001B[32m   1465\u001B[39m \u001B[38;5;28;01melif\u001B[39;00m \u001B[38;5;28misinstance\u001B[39m(value, ir.Arg):\n\u001B[32m   1466\u001B[39m     \u001B[38;5;28mself\u001B[39m.typeof_arg(inst, inst.target, value)\n",
      "\u001B[36mFile \u001B[39m\u001B[32m~\\Documents\\3_python_projects\\pyorps\\.venv\\Lib\\site-packages\\numba\\core\\typeinfer.py:1564\u001B[39m, in \u001B[36mTypeInferer.typeof_global\u001B[39m\u001B[34m(self, inst, target, gvar)\u001B[39m\n\u001B[32m   1562\u001B[39m \u001B[38;5;28;01mdef\u001B[39;00m\u001B[38;5;250m \u001B[39m\u001B[34mtypeof_global\u001B[39m(\u001B[38;5;28mself\u001B[39m, inst, target, gvar):\n\u001B[32m   1563\u001B[39m     \u001B[38;5;28;01mtry\u001B[39;00m:\n\u001B[32m-> \u001B[39m\u001B[32m1564\u001B[39m         typ = \u001B[38;5;28;43mself\u001B[39;49m\u001B[43m.\u001B[49m\u001B[43mresolve_value_type\u001B[49m\u001B[43m(\u001B[49m\u001B[43minst\u001B[49m\u001B[43m,\u001B[49m\u001B[43m \u001B[49m\u001B[43mgvar\u001B[49m\u001B[43m.\u001B[49m\u001B[43mvalue\u001B[49m\u001B[43m)\u001B[49m\n\u001B[32m   1565\u001B[39m     \u001B[38;5;28;01mexcept\u001B[39;00m TypingError \u001B[38;5;28;01mas\u001B[39;00m e:\n\u001B[32m   1566\u001B[39m         \u001B[38;5;28;01mif\u001B[39;00m (gvar.name == \u001B[38;5;28mself\u001B[39m.func_id.func_name\n\u001B[32m   1567\u001B[39m                 \u001B[38;5;129;01mand\u001B[39;00m gvar.name \u001B[38;5;129;01min\u001B[39;00m _temporary_dispatcher_map):\n\u001B[32m   1568\u001B[39m             \u001B[38;5;66;03m# Self-recursion case where the dispatcher is not (yet?) known\u001B[39;00m\n\u001B[32m   1569\u001B[39m             \u001B[38;5;66;03m# as a global variable\u001B[39;00m\n",
      "\u001B[36mFile \u001B[39m\u001B[32m~\\Documents\\3_python_projects\\pyorps\\.venv\\Lib\\site-packages\\numba\\core\\typeinfer.py:1485\u001B[39m, in \u001B[36mTypeInferer.resolve_value_type\u001B[39m\u001B[34m(self, inst, val)\u001B[39m\n\u001B[32m   1483\u001B[39m \u001B[38;5;28;01mexcept\u001B[39;00m \u001B[38;5;167;01mValueError\u001B[39;00m \u001B[38;5;28;01mas\u001B[39;00m e:\n\u001B[32m   1484\u001B[39m     msg = \u001B[38;5;28mstr\u001B[39m(e)\n\u001B[32m-> \u001B[39m\u001B[32m1485\u001B[39m \u001B[38;5;28;01mraise\u001B[39;00m TypingError(msg, loc=inst.loc)\n",
      "\u001B[31mTypingError\u001B[39m: Failed in nopython mode pipeline (step: nopython frontend)\n\u001B[1m\u001B[1mNameError: name '_calculate_source_region_bounds' is not defined\u001B[0m\n\u001B[0m\u001B[1mDuring: Pass nopython_type_inference\u001B[0m"
     ]
    }
   ],
   "execution_count": 1
  },
  {
   "cell_type": "markdown",
   "id": "7f5c16e0-12ff-432d-b77c-7b88d8ed0cc1",
   "metadata": {},
   "source": [
    "#### 2. Download Vector Data from a WFS Server\n",
    "\n",
    "A Web Feature Service (WFS) allows users to request and retrieve vector geospatial data (e.g., shapefiles) over the web. This is particularly useful for accessing up-to-date geospatial datasets.\n",
    "How to Make a Proper WFS Request:\n",
    "- Define the WFS server URL.\n",
    "- Specify the layer or dataset you want to download.\n",
    "- Use appropriate query parameters (e.g., bounding box, CRS, or feature type) to refine your request.\n",
    "\n",
    "In this example we use an open-source dataset from the [Hessian State Office for Land Management and Geoinformation](https://gds.hessen.de/INTERSHOP/web/WFS/HLBG-Geodaten-Site/de_DE/-/EUR/ViewDownloadcenter-Start?path=Geodatendienste/WFS%20ALKIS-Grundriss)\n",
    "\n",
    "##### 2.1 Define WFS-Request\n",
    "First, we define the WFS request by specifying the URL and the layer name."
   ]
  },
  {
   "cell_type": "code",
   "id": "b46c0885-787f-467b-99d3-de4d57a06f83",
   "metadata": {
    "ExecuteTime": {
     "end_time": "2025-07-01T13:59:10.051220600Z",
     "start_time": "2025-06-28T13:11:41.695746Z"
    }
   },
   "source": [
    "base_file_url = \"https://www.gds.hessen.de/wfs2/aaa-suite/cgi-bin/alkis/vereinf/wfs\"\n",
    "\n",
    "wfs_request = {\n",
    "    \"url\": base_file_url,\n",
    "    \"layer\": \"ave_Nutzung\",\n",
    "}"
   ],
   "outputs": [],
   "execution_count": 2
  },
  {
   "cell_type": "markdown",
   "id": "d4f81555-621c-4702-9d66-749fcf3af967",
   "metadata": {},
   "source": [
    "##### 2.2 Create bounding box\n",
    "A significant amount of data is available for the defined request! To download only a portion of this data,let's define a bounding box. It is crucial that this bounding box is in the same Coordinate Reference System (CRS) as the requested layer, as this ensures accurate data retrieval and alignment (\"EPSG:25832\" in this case)."
   ]
  },
  {
   "cell_type": "code",
   "id": "290ae1ba-a44b-4ef8-b88c-87d42b522151",
   "metadata": {
    "ExecuteTime": {
     "end_time": "2025-07-01T13:59:10.051220600Z",
     "start_time": "2025-06-28T13:11:42.051911Z"
    }
   },
   "source": [
    "box_tuple = (471200, 5592700, 474200, 5595700)"
   ],
   "outputs": [],
   "execution_count": 3
  },
  {
   "cell_type": "markdown",
   "id": "ac3190a0-3e59-40b3-a60a-8d7d1377acd3",
   "metadata": {},
   "source": [
    "##### 2.3 Initialize GeoDataset and download the data from the WFS\n",
    "Now, we will initialize the GeoDataset instance and load the data from its source using the defined request and\n",
    "bounding box."
   ]
  },
  {
   "cell_type": "code",
   "id": "f01f8959-d467-4b28-9663-b921e9b095d9",
   "metadata": {
    "ExecuteTime": {
     "end_time": "2025-07-01T13:59:10.059259400Z",
     "start_time": "2025-06-28T13:11:42.064875Z"
    }
   },
   "source": [
    "geo_dataset = initialize_geo_dataset(wfs_request, bbox=box_tuple)\n",
    "geo_dataset.load_data()"
   ],
   "outputs": [],
   "execution_count": 4
  },
  {
   "cell_type": "markdown",
   "id": "db553e48-49df-40eb-96c5-d2e4a10e659f",
   "metadata": {},
   "source": [
    "#### 3. Save an Empty Cost Assumptions CSV File\n",
    "\n",
    "Cost assumptions assign terrain-specific costs to different features in the vector dataset (e.g., forests, water bodies, roads). These costs are critical for least-cost path analysis.\n",
    "Steps to create the CSV file:\n",
    "- Generate an empty CSV file with the required structure (e.g., columns for feature type and cost values).\n",
    "- Save the file locally and  fill it with your specific cost assumptions.\n",
    "##### 3.1 Define a file location to save the CSV file\n",
    "Define a path string to the location where to save the CSV file. If the folder data/cost_assumptions does not exist,\n",
    "create it beforehand."
   ]
  },
  {
   "cell_type": "code",
   "id": "c3c35291-c407-4f72-8719-cfc511be2d27",
   "metadata": {
    "ExecuteTime": {
     "end_time": "2025-07-01T13:59:10.061295100Z",
     "start_time": "2025-06-28T13:11:42.786129Z"
    }
   },
   "source": [
    "save_path_empty_cost_assumptions = r\"./data/cost_assumptions/cost_assumptions_template_HE_ALKIS.csv\""
   ],
   "outputs": [],
   "execution_count": 5
  },
  {
   "cell_type": "markdown",
   "id": "83199fee-8e79-4d72-a64b-e36e7cec3602",
   "metadata": {},
   "source": [
    "##### 3.2 Generate and save an empty cost assumptions file with zero values for the geospatial dataset.\n",
    "This process involves analyzing the dataset to identify relevant feature columns and creating a CostAssumptions\n",
    "object that assigns zero costs to all features. The resulting CSV file will serve as a template to put in your\n",
    "specific cost values."
   ]
  },
  {
   "cell_type": "code",
   "id": "bcabafa4-f54b-493c-aae0-8791b670b8b8",
   "metadata": {
    "ExecuteTime": {
     "end_time": "2025-07-01T13:59:10.061295100Z",
     "start_time": "2025-06-28T13:11:42.798358Z"
    }
   },
   "source": [
    "save_empty_cost_assumptions(geo_dataset, save_path_empty_cost_assumptions)"
   ],
   "outputs": [
    {
     "data": {
      "text/plain": [
       "{('Halde', nan): 0,\n",
       " ('Straßenverkehr', nan): 0,\n",
       " ('Weg', nan): 0,\n",
       " ('Weg', 'Fußweg'): 0,\n",
       " ('Landwirtschaft', 'Ackerland'): 0,\n",
       " ('Landwirtschaft', 'Grünland'): 0,\n",
       " ('Landwirtschaft', 'Gartenbauland'): 0,\n",
       " ('Wald', 'Laub- und Nadelholz'): 0,\n",
       " ('Wald', 'Nadelholz'): 0,\n",
       " ('Wald', 'Laubholz'): 0,\n",
       " ('Unland/Vegetationslose Fläche', nan): 0,\n",
       " ('Fließgewässer', 'Graben'): 0,\n",
       " ('Gehölz', nan): 0,\n",
       " ('Industrie- und Gewerbefläche', 'Wasserwerk'): 0,\n",
       " ('Fließgewässer', nan): 0,\n",
       " ('Platz', nan): 0,\n",
       " ('Sport-, Freizeit- und Erholungsfläche', 'Sportanlage'): 0,\n",
       " ('Sport-, Freizeit- und Erholungsfläche',\n",
       "  'Gebäude- und Freifläche Sport, Freizeit und Erholung'): 0,\n",
       " ('Fläche gemischter Nutzung', 'Landwirtschaftliche Betriebsfläche'): 0,\n",
       " ('Fläche gemischter Nutzung', 'Wohnen'): 0,\n",
       " ('Wohnbaufläche', nan): 0,\n",
       " ('Fläche gemischter Nutzung',\n",
       "  'Gebäude- und Freifläche Land- und Forstwirtschaft'): 0,\n",
       " ('Fläche gemischter Nutzung',\n",
       "  'Gebäude- und Freifläche Mischnutzung mit Wohnen'): 0,\n",
       " ('Fläche gemischter Nutzung', nan): 0,\n",
       " ('Sport-, Freizeit- und Erholungsfläche', 'Grünanlage'): 0,\n",
       " ('Industrie- und Gewerbefläche', 'Lagerfläche'): 0,\n",
       " ('Industrie- und Gewerbefläche', 'Industrie und Gewerbe'): 0,\n",
       " ('Landwirtschaft', 'Streuobstwiese'): 0,\n",
       " ('Fließgewässer', 'Bach'): 0,\n",
       " ('Fläche besonderer funktionaler Prägung', nan): 0,\n",
       " ('Industrie- und Gewerbefläche', 'Versorgungsanlage'): 0,\n",
       " ('Industrie- und Gewerbefläche', 'Handel und Dienstleistung'): 0,\n",
       " ('Industrie- und Gewerbefläche', 'Kläranlage, Klärwerk'): 0,\n",
       " ('Tagebau, Grube, Steinbruch', nan): 0,\n",
       " ('Fläche besonderer funktionaler Prägung', 'Öffentliche Zwecke'): 0,\n",
       " ('Friedhof', nan): 0,\n",
       " ('Platz', 'Parkplatz'): 0,\n",
       " ('Unland/Vegetationslose Fläche', 'Gewässerbegleitfläche'): 0,\n",
       " ('Industrie- und Gewerbefläche', 'Funk- und Fernmeldeanlage'): 0,\n",
       " ('Industrie- und Gewerbefläche', 'Abfallbehandlungsanlage'): 0,\n",
       " ('Industrie- und Gewerbefläche', 'Umspannstation'): 0,\n",
       " ('Industrie- und Gewerbefläche', nan): 0}"
      ]
     },
     "execution_count": 6,
     "metadata": {},
     "output_type": "execute_result"
    }
   ],
   "execution_count": 6
  },
  {
   "cell_type": "markdown",
   "id": "d95c387c-527f-4ac8-825f-90ae13331f40",
   "metadata": {},
   "source": [
    "##### 3.3 Use the template CSV file for your cost assumptions\n",
    "Fill the cost column of the previously generated CSV file with your cost assumptions and save it as a new file!"
   ]
  },
  {
   "cell_type": "markdown",
   "id": "f6ea5898-e741-49d0-b8c5-42039a0dda40",
   "metadata": {},
   "source": [
    "#### 4. Rasterize the Vector Dataset Using Cost Assumptions\n",
    "\n",
    "Rasterization converts vector data (e.g. polygons) into a raster format (gridded data). Each pixel in the raster is assigned a value based on the cost assumptions.\n",
    "Steps to Rasterize the Data:\n",
    "- Create a GeoRasterizer object with the vector dataset and the cost assumptions CSV file.\n",
    "- Rasterize the vector data, assign pixel values based on the cost assumptions and save the raster file.\n",
    "\n",
    "##### 4.1 Create the GeoRasterizer instance\n",
    "Create an instance of the GeoRasterizer class with the GeoDataset instance and the path to the cost file, filled\n",
    "with your cost assumptions."
   ]
  },
  {
   "cell_type": "code",
   "id": "f698ed49-2e43-4c18-87b0-bb202dfc9387",
   "metadata": {
    "ExecuteTime": {
     "end_time": "2025-07-01T13:59:10.061295100Z",
     "start_time": "2025-06-28T13:11:42.853349Z"
    }
   },
   "source": [
    "cost_file_path = r\"./data/cost_assumptions/cost_assumptions.csv\"\n",
    "rasterizer = GeoRasterizer(geo_dataset, cost_file_path)"
   ],
   "outputs": [],
   "execution_count": 7
  },
  {
   "cell_type": "markdown",
   "id": "e9f24585-5542-4441-a98c-15b5942f4d4f",
   "metadata": {},
   "source": [
    "##### 4.2 Rasterize the vector data and save the raster data\n",
    "Rasterize the vector data by calling the rasterize method with the GeoRasterizer instance. Pass a path to the\n",
    "save_path parameter to directly save the raster file after it has been created."
   ]
  },
  {
   "cell_type": "code",
   "id": "5e2ce4df-46bb-40d3-99e6-aee258e821bf",
   "metadata": {
    "ExecuteTime": {
     "end_time": "2025-07-01T13:59:10.069398700Z",
     "start_time": "2025-06-28T13:11:42.883746Z"
    }
   },
   "source": [
    "raster_save_path = r\"./data/raster/big_raster.tiff\"\n",
    "rasterizer.rasterize(save_path=raster_save_path)"
   ],
   "outputs": [
    {
     "data": {
      "text/plain": [
       "<pyorps.io.geo_dataset.InMemoryRasterDataset at 0x296d6955b80>"
      ]
     },
     "execution_count": 8,
     "metadata": {},
     "output_type": "execute_result"
    }
   ],
   "execution_count": 8
  },
  {
   "cell_type": "markdown",
   "id": "4bdfe164-d40b-4e21-8525-c0af5f3cfbd1",
   "metadata": {},
   "source": [
    "##### You can now use the rasterized geodata for your route planning tasks with PYORPS! Refer to the minimal_example.ipynb for guidance."
   ]
  }
 ],
 "metadata": {
  "kernelspec": {
   "display_name": "Python 3 (ipykernel)",
   "language": "python",
   "name": "python3"
  },
  "language_info": {
   "codemirror_mode": {
    "name": "ipython",
    "version": 3
   },
   "file_extension": ".py",
   "mimetype": "text/x-python",
   "name": "python",
   "nbconvert_exporter": "python",
   "pygments_lexer": "ipython3",
   "version": "3.11.9"
  }
 },
 "nbformat": 4,
 "nbformat_minor": 5
}
